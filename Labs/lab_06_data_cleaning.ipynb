{
  "cells": [
    {
      "cell_type": "markdown",
      "metadata": {
        "id": "bSMMBBjMUKCW"
      },
      "source": [
        "> ### Note on Labs and Assigments:\n",
        ">\n",
        "> 🔧 Look for the **wrench emoji** 🔧 — it highlights where you're expected to take action!\n",
        ">\n",
        "> These sections are graded and are not optional.\n",
        ">"
      ]
    },
    {
      "cell_type": "markdown",
      "metadata": {
        "id": "wILWVHB_hdS9"
      },
      "source": [
        "# IS 4487 Lab 6: Data Cleaning\n",
        "\n",
        "## Outline\n",
        "\n",
        "- Load and inspect a new dataset (Megatelco)\n",
        "- Fix column names and data types\n",
        "- Handle missing values\n",
        "- Remove duplicate rows\n",
        "- Review and remove outliers\n",
        "- Reflect on data quality\n",
        "\n",
        "In this lab, we’ll clean the data to get it ready for transformations and analysis.\n",
        "\n",
        "We will continue working with this dataset in **Lab 7**, where we will create new features and apply transformations.\n",
        "\n",
        "<a href=\"https://colab.research.google.com/github/Stan-Pugsley/is_4487_base/blob/main/Labs/lab_06_data_cleaning.ipynb\" target=\"_parent\">\n",
        "  <img src=\"https://colab.research.google.com/assets/colab-badge.svg\" alt=\"Open In Colab\"/>\n",
        "</a>"
      ]
    },
    {
      "cell_type": "markdown",
      "metadata": {
        "id": "7sL7v5VBhn0W"
      },
      "source": [
        "## Megatelco Data Dictionary\n",
        "\n",
        " DEMOGRAPHIC VARIABLES:\n",
        " - College - has the customer attended some college (one, zero)\n",
        " - Income - annual income of customer\n",
        " - House - estimated price of the customer's home (if applicable)\n",
        "\n",
        " USAGE VARIABLES:\n",
        " - Data Overage Mb - Average number of megabytes that the customer used in excess of the plan limit (over last 12 months)\n",
        " - Data Leftover Mb - Average number of megabytes that the customer use was below the plan limit (over last 12 months)\n",
        " - Data Mb Used - Average number of megabytes used per month (over last 12 months)\n",
        " - Text Message Count - Average number of texts per month (over last 12 months)\n",
        " - Over 15 Minute Calls Per Month - Average number of calls over 15 minutes in duration per month (over last 12 months)\n",
        " - Average Call Duration- Average call duration (over last 12 months)\n",
        "\n",
        "PHONE VARIABLES:\n",
        " - Operating System - Current operating system of phone\n",
        " - Handset Price - Retail price of the phone used by the customer\n",
        "\n",
        "ATTITUDINAL VARIABLES:\n",
        " - Reported Satisfaction - Survey response to \"How satisfied are you with your current phone plan?\" (high, med, low)\n",
        " - Reported Usage Level - Survey response to \"How much do your use your phone?\" (high, med, low)\n",
        " - Considering Change of Plan - Survey response to \"Are you currently planning to change companies when your contract expires?\" (high, med, low)\n",
        "\n",
        "OTHER VARIABLES\n",
        " - Leave - Did this customer churn with the last contract expiration? (LEAVE, STAY)\n",
        " - ID - Customer identifier"
      ]
    },
    {
      "cell_type": "code",
      "execution_count": 1,
      "metadata": {
        "id": "j7lmvMVURvit",
        "colab": {
          "base_uri": "https://localhost:8080/",
          "height": 226
        },
        "outputId": "73ca99eb-11b5-4d3d-d244-d66dd1476c31"
      },
      "outputs": [
        {
          "output_type": "execute_result",
          "data": {
            "text/plain": [
              "  college    income  data_overage_mb  data_leftover_mb  data_mb_used  \\\n",
              "0     one  403137.0               70               0.0        6605.0   \n",
              "1    zero  129700.0               67              16.0        6028.0   \n",
              "2    zero   69741.0               60               0.0        1482.0   \n",
              "3     one  377572.0                0              22.0        3005.0   \n",
              "4    zero  382080.0                0               0.0        1794.0   \n",
              "\n",
              "   text_message_count   house  handset_price  over_15mins_calls_per_month  \\\n",
              "0                 199  841317          653.0                          5.0   \n",
              "1                 134  476664         1193.0                          5.0   \n",
              "2                 176  810225         1037.0                          3.0   \n",
              "3                 184  826967         1161.0                          0.0   \n",
              "4                  74  951896         1023.0                          0.0   \n",
              "\n",
              "   average_call_duration reported_satisfaction reported_usage_level  \\\n",
              "0                    8.0                   low                  low   \n",
              "1                    5.0                   low                  low   \n",
              "2                    8.0                   low                  low   \n",
              "3                    5.0                   low                  low   \n",
              "4                   14.0                   low                  low   \n",
              "\n",
              "  considering_change_of_plan  leave     id operating_system  \n",
              "0                        yes  LEAVE   8183          Android  \n",
              "1                        yes  LEAVE  12501              IOS  \n",
              "2                        yes   STAY   7425              IOS  \n",
              "3                         no  LEAVE  13488              IOS  \n",
              "4                        yes   STAY  11389              IOS  "
            ],
            "text/html": [
              "\n",
              "  <div id=\"df-99c6df9f-bfa9-46cf-b1b3-0918775e54c0\" class=\"colab-df-container\">\n",
              "    <div>\n",
              "<style scoped>\n",
              "    .dataframe tbody tr th:only-of-type {\n",
              "        vertical-align: middle;\n",
              "    }\n",
              "\n",
              "    .dataframe tbody tr th {\n",
              "        vertical-align: top;\n",
              "    }\n",
              "\n",
              "    .dataframe thead th {\n",
              "        text-align: right;\n",
              "    }\n",
              "</style>\n",
              "<table border=\"1\" class=\"dataframe\">\n",
              "  <thead>\n",
              "    <tr style=\"text-align: right;\">\n",
              "      <th></th>\n",
              "      <th>college</th>\n",
              "      <th>income</th>\n",
              "      <th>data_overage_mb</th>\n",
              "      <th>data_leftover_mb</th>\n",
              "      <th>data_mb_used</th>\n",
              "      <th>text_message_count</th>\n",
              "      <th>house</th>\n",
              "      <th>handset_price</th>\n",
              "      <th>over_15mins_calls_per_month</th>\n",
              "      <th>average_call_duration</th>\n",
              "      <th>reported_satisfaction</th>\n",
              "      <th>reported_usage_level</th>\n",
              "      <th>considering_change_of_plan</th>\n",
              "      <th>leave</th>\n",
              "      <th>id</th>\n",
              "      <th>operating_system</th>\n",
              "    </tr>\n",
              "  </thead>\n",
              "  <tbody>\n",
              "    <tr>\n",
              "      <th>0</th>\n",
              "      <td>one</td>\n",
              "      <td>403137.0</td>\n",
              "      <td>70</td>\n",
              "      <td>0.0</td>\n",
              "      <td>6605.0</td>\n",
              "      <td>199</td>\n",
              "      <td>841317</td>\n",
              "      <td>653.0</td>\n",
              "      <td>5.0</td>\n",
              "      <td>8.0</td>\n",
              "      <td>low</td>\n",
              "      <td>low</td>\n",
              "      <td>yes</td>\n",
              "      <td>LEAVE</td>\n",
              "      <td>8183</td>\n",
              "      <td>Android</td>\n",
              "    </tr>\n",
              "    <tr>\n",
              "      <th>1</th>\n",
              "      <td>zero</td>\n",
              "      <td>129700.0</td>\n",
              "      <td>67</td>\n",
              "      <td>16.0</td>\n",
              "      <td>6028.0</td>\n",
              "      <td>134</td>\n",
              "      <td>476664</td>\n",
              "      <td>1193.0</td>\n",
              "      <td>5.0</td>\n",
              "      <td>5.0</td>\n",
              "      <td>low</td>\n",
              "      <td>low</td>\n",
              "      <td>yes</td>\n",
              "      <td>LEAVE</td>\n",
              "      <td>12501</td>\n",
              "      <td>IOS</td>\n",
              "    </tr>\n",
              "    <tr>\n",
              "      <th>2</th>\n",
              "      <td>zero</td>\n",
              "      <td>69741.0</td>\n",
              "      <td>60</td>\n",
              "      <td>0.0</td>\n",
              "      <td>1482.0</td>\n",
              "      <td>176</td>\n",
              "      <td>810225</td>\n",
              "      <td>1037.0</td>\n",
              "      <td>3.0</td>\n",
              "      <td>8.0</td>\n",
              "      <td>low</td>\n",
              "      <td>low</td>\n",
              "      <td>yes</td>\n",
              "      <td>STAY</td>\n",
              "      <td>7425</td>\n",
              "      <td>IOS</td>\n",
              "    </tr>\n",
              "    <tr>\n",
              "      <th>3</th>\n",
              "      <td>one</td>\n",
              "      <td>377572.0</td>\n",
              "      <td>0</td>\n",
              "      <td>22.0</td>\n",
              "      <td>3005.0</td>\n",
              "      <td>184</td>\n",
              "      <td>826967</td>\n",
              "      <td>1161.0</td>\n",
              "      <td>0.0</td>\n",
              "      <td>5.0</td>\n",
              "      <td>low</td>\n",
              "      <td>low</td>\n",
              "      <td>no</td>\n",
              "      <td>LEAVE</td>\n",
              "      <td>13488</td>\n",
              "      <td>IOS</td>\n",
              "    </tr>\n",
              "    <tr>\n",
              "      <th>4</th>\n",
              "      <td>zero</td>\n",
              "      <td>382080.0</td>\n",
              "      <td>0</td>\n",
              "      <td>0.0</td>\n",
              "      <td>1794.0</td>\n",
              "      <td>74</td>\n",
              "      <td>951896</td>\n",
              "      <td>1023.0</td>\n",
              "      <td>0.0</td>\n",
              "      <td>14.0</td>\n",
              "      <td>low</td>\n",
              "      <td>low</td>\n",
              "      <td>yes</td>\n",
              "      <td>STAY</td>\n",
              "      <td>11389</td>\n",
              "      <td>IOS</td>\n",
              "    </tr>\n",
              "  </tbody>\n",
              "</table>\n",
              "</div>\n",
              "    <div class=\"colab-df-buttons\">\n",
              "\n",
              "  <div class=\"colab-df-container\">\n",
              "    <button class=\"colab-df-convert\" onclick=\"convertToInteractive('df-99c6df9f-bfa9-46cf-b1b3-0918775e54c0')\"\n",
              "            title=\"Convert this dataframe to an interactive table.\"\n",
              "            style=\"display:none;\">\n",
              "\n",
              "  <svg xmlns=\"http://www.w3.org/2000/svg\" height=\"24px\" viewBox=\"0 -960 960 960\">\n",
              "    <path d=\"M120-120v-720h720v720H120Zm60-500h600v-160H180v160Zm220 220h160v-160H400v160Zm0 220h160v-160H400v160ZM180-400h160v-160H180v160Zm440 0h160v-160H620v160ZM180-180h160v-160H180v160Zm440 0h160v-160H620v160Z\"/>\n",
              "  </svg>\n",
              "    </button>\n",
              "\n",
              "  <style>\n",
              "    .colab-df-container {\n",
              "      display:flex;\n",
              "      gap: 12px;\n",
              "    }\n",
              "\n",
              "    .colab-df-convert {\n",
              "      background-color: #E8F0FE;\n",
              "      border: none;\n",
              "      border-radius: 50%;\n",
              "      cursor: pointer;\n",
              "      display: none;\n",
              "      fill: #1967D2;\n",
              "      height: 32px;\n",
              "      padding: 0 0 0 0;\n",
              "      width: 32px;\n",
              "    }\n",
              "\n",
              "    .colab-df-convert:hover {\n",
              "      background-color: #E2EBFA;\n",
              "      box-shadow: 0px 1px 2px rgba(60, 64, 67, 0.3), 0px 1px 3px 1px rgba(60, 64, 67, 0.15);\n",
              "      fill: #174EA6;\n",
              "    }\n",
              "\n",
              "    .colab-df-buttons div {\n",
              "      margin-bottom: 4px;\n",
              "    }\n",
              "\n",
              "    [theme=dark] .colab-df-convert {\n",
              "      background-color: #3B4455;\n",
              "      fill: #D2E3FC;\n",
              "    }\n",
              "\n",
              "    [theme=dark] .colab-df-convert:hover {\n",
              "      background-color: #434B5C;\n",
              "      box-shadow: 0px 1px 3px 1px rgba(0, 0, 0, 0.15);\n",
              "      filter: drop-shadow(0px 1px 2px rgba(0, 0, 0, 0.3));\n",
              "      fill: #FFFFFF;\n",
              "    }\n",
              "  </style>\n",
              "\n",
              "    <script>\n",
              "      const buttonEl =\n",
              "        document.querySelector('#df-99c6df9f-bfa9-46cf-b1b3-0918775e54c0 button.colab-df-convert');\n",
              "      buttonEl.style.display =\n",
              "        google.colab.kernel.accessAllowed ? 'block' : 'none';\n",
              "\n",
              "      async function convertToInteractive(key) {\n",
              "        const element = document.querySelector('#df-99c6df9f-bfa9-46cf-b1b3-0918775e54c0');\n",
              "        const dataTable =\n",
              "          await google.colab.kernel.invokeFunction('convertToInteractive',\n",
              "                                                    [key], {});\n",
              "        if (!dataTable) return;\n",
              "\n",
              "        const docLinkHtml = 'Like what you see? Visit the ' +\n",
              "          '<a target=\"_blank\" href=https://colab.research.google.com/notebooks/data_table.ipynb>data table notebook</a>'\n",
              "          + ' to learn more about interactive tables.';\n",
              "        element.innerHTML = '';\n",
              "        dataTable['output_type'] = 'display_data';\n",
              "        await google.colab.output.renderOutput(dataTable, element);\n",
              "        const docLink = document.createElement('div');\n",
              "        docLink.innerHTML = docLinkHtml;\n",
              "        element.appendChild(docLink);\n",
              "      }\n",
              "    </script>\n",
              "  </div>\n",
              "\n",
              "\n",
              "    <div id=\"df-cadaf0cb-1c60-4e74-a6b8-548aae816f84\">\n",
              "      <button class=\"colab-df-quickchart\" onclick=\"quickchart('df-cadaf0cb-1c60-4e74-a6b8-548aae816f84')\"\n",
              "                title=\"Suggest charts\"\n",
              "                style=\"display:none;\">\n",
              "\n",
              "<svg xmlns=\"http://www.w3.org/2000/svg\" height=\"24px\"viewBox=\"0 0 24 24\"\n",
              "     width=\"24px\">\n",
              "    <g>\n",
              "        <path d=\"M19 3H5c-1.1 0-2 .9-2 2v14c0 1.1.9 2 2 2h14c1.1 0 2-.9 2-2V5c0-1.1-.9-2-2-2zM9 17H7v-7h2v7zm4 0h-2V7h2v10zm4 0h-2v-4h2v4z\"/>\n",
              "    </g>\n",
              "</svg>\n",
              "      </button>\n",
              "\n",
              "<style>\n",
              "  .colab-df-quickchart {\n",
              "      --bg-color: #E8F0FE;\n",
              "      --fill-color: #1967D2;\n",
              "      --hover-bg-color: #E2EBFA;\n",
              "      --hover-fill-color: #174EA6;\n",
              "      --disabled-fill-color: #AAA;\n",
              "      --disabled-bg-color: #DDD;\n",
              "  }\n",
              "\n",
              "  [theme=dark] .colab-df-quickchart {\n",
              "      --bg-color: #3B4455;\n",
              "      --fill-color: #D2E3FC;\n",
              "      --hover-bg-color: #434B5C;\n",
              "      --hover-fill-color: #FFFFFF;\n",
              "      --disabled-bg-color: #3B4455;\n",
              "      --disabled-fill-color: #666;\n",
              "  }\n",
              "\n",
              "  .colab-df-quickchart {\n",
              "    background-color: var(--bg-color);\n",
              "    border: none;\n",
              "    border-radius: 50%;\n",
              "    cursor: pointer;\n",
              "    display: none;\n",
              "    fill: var(--fill-color);\n",
              "    height: 32px;\n",
              "    padding: 0;\n",
              "    width: 32px;\n",
              "  }\n",
              "\n",
              "  .colab-df-quickchart:hover {\n",
              "    background-color: var(--hover-bg-color);\n",
              "    box-shadow: 0 1px 2px rgba(60, 64, 67, 0.3), 0 1px 3px 1px rgba(60, 64, 67, 0.15);\n",
              "    fill: var(--button-hover-fill-color);\n",
              "  }\n",
              "\n",
              "  .colab-df-quickchart-complete:disabled,\n",
              "  .colab-df-quickchart-complete:disabled:hover {\n",
              "    background-color: var(--disabled-bg-color);\n",
              "    fill: var(--disabled-fill-color);\n",
              "    box-shadow: none;\n",
              "  }\n",
              "\n",
              "  .colab-df-spinner {\n",
              "    border: 2px solid var(--fill-color);\n",
              "    border-color: transparent;\n",
              "    border-bottom-color: var(--fill-color);\n",
              "    animation:\n",
              "      spin 1s steps(1) infinite;\n",
              "  }\n",
              "\n",
              "  @keyframes spin {\n",
              "    0% {\n",
              "      border-color: transparent;\n",
              "      border-bottom-color: var(--fill-color);\n",
              "      border-left-color: var(--fill-color);\n",
              "    }\n",
              "    20% {\n",
              "      border-color: transparent;\n",
              "      border-left-color: var(--fill-color);\n",
              "      border-top-color: var(--fill-color);\n",
              "    }\n",
              "    30% {\n",
              "      border-color: transparent;\n",
              "      border-left-color: var(--fill-color);\n",
              "      border-top-color: var(--fill-color);\n",
              "      border-right-color: var(--fill-color);\n",
              "    }\n",
              "    40% {\n",
              "      border-color: transparent;\n",
              "      border-right-color: var(--fill-color);\n",
              "      border-top-color: var(--fill-color);\n",
              "    }\n",
              "    60% {\n",
              "      border-color: transparent;\n",
              "      border-right-color: var(--fill-color);\n",
              "    }\n",
              "    80% {\n",
              "      border-color: transparent;\n",
              "      border-right-color: var(--fill-color);\n",
              "      border-bottom-color: var(--fill-color);\n",
              "    }\n",
              "    90% {\n",
              "      border-color: transparent;\n",
              "      border-bottom-color: var(--fill-color);\n",
              "    }\n",
              "  }\n",
              "</style>\n",
              "\n",
              "      <script>\n",
              "        async function quickchart(key) {\n",
              "          const quickchartButtonEl =\n",
              "            document.querySelector('#' + key + ' button');\n",
              "          quickchartButtonEl.disabled = true;  // To prevent multiple clicks.\n",
              "          quickchartButtonEl.classList.add('colab-df-spinner');\n",
              "          try {\n",
              "            const charts = await google.colab.kernel.invokeFunction(\n",
              "                'suggestCharts', [key], {});\n",
              "          } catch (error) {\n",
              "            console.error('Error during call to suggestCharts:', error);\n",
              "          }\n",
              "          quickchartButtonEl.classList.remove('colab-df-spinner');\n",
              "          quickchartButtonEl.classList.add('colab-df-quickchart-complete');\n",
              "        }\n",
              "        (() => {\n",
              "          let quickchartButtonEl =\n",
              "            document.querySelector('#df-cadaf0cb-1c60-4e74-a6b8-548aae816f84 button');\n",
              "          quickchartButtonEl.style.display =\n",
              "            google.colab.kernel.accessAllowed ? 'block' : 'none';\n",
              "        })();\n",
              "      </script>\n",
              "    </div>\n",
              "\n",
              "    </div>\n",
              "  </div>\n"
            ],
            "application/vnd.google.colaboratory.intrinsic+json": {
              "type": "dataframe",
              "variable_name": "df",
              "summary": "{\n  \"name\": \"df\",\n  \"rows\": 15016,\n  \"fields\": [\n    {\n      \"column\": \"college\",\n      \"properties\": {\n        \"dtype\": \"category\",\n        \"num_unique_values\": 2,\n        \"samples\": [\n          \"zero\",\n          \"one\"\n        ],\n        \"semantic_type\": \"\",\n        \"description\": \"\"\n      }\n    },\n    {\n      \"column\": \"income\",\n      \"properties\": {\n        \"dtype\": \"number\",\n        \"std\": 109627.85966562832,\n        \"min\": -65000.0,\n        \"max\": 432000.0,\n        \"num_unique_values\": 14715,\n        \"samples\": [\n          80973.0,\n          239000.0\n        ],\n        \"semantic_type\": \"\",\n        \"description\": \"\"\n      }\n    },\n    {\n      \"column\": \"data_overage_mb\",\n      \"properties\": {\n        \"dtype\": \"number\",\n        \"std\": 113,\n        \"min\": 0,\n        \"max\": 380,\n        \"num_unique_values\": 381,\n        \"samples\": [\n          294,\n          163\n        ],\n        \"semantic_type\": \"\",\n        \"description\": \"\"\n      }\n    },\n    {\n      \"column\": \"data_leftover_mb\",\n      \"properties\": {\n        \"dtype\": \"number\",\n        \"std\": 28.0523177836588,\n        \"min\": 0.0,\n        \"max\": 89.0,\n        \"num_unique_values\": 90,\n        \"samples\": [\n          80.0,\n          46.0\n        ],\n        \"semantic_type\": \"\",\n        \"description\": \"\"\n      }\n    },\n    {\n      \"column\": \"data_mb_used\",\n      \"properties\": {\n        \"dtype\": \"number\",\n        \"std\": 2203.8024463604534,\n        \"min\": 400.0,\n        \"max\": 8000.0,\n        \"num_unique_values\": 6500,\n        \"samples\": [\n          5499.0,\n          4288.0\n        ],\n        \"semantic_type\": \"\",\n        \"description\": \"\"\n      }\n    },\n    {\n      \"column\": \"text_message_count\",\n      \"properties\": {\n        \"dtype\": \"number\",\n        \"std\": 62,\n        \"min\": 52,\n        \"max\": 5000,\n        \"num_unique_values\": 170,\n        \"samples\": [\n          166,\n          144\n        ],\n        \"semantic_type\": \"\",\n        \"description\": \"\"\n      }\n    },\n    {\n      \"column\": \"house\",\n      \"properties\": {\n        \"dtype\": \"number\",\n        \"std\": 287016,\n        \"min\": -463,\n        \"max\": 1456389,\n        \"num_unique_values\": 14885,\n        \"samples\": [\n          1164856,\n          1452898\n        ],\n        \"semantic_type\": \"\",\n        \"description\": \"\"\n      }\n    },\n    {\n      \"column\": \"handset_price\",\n      \"properties\": {\n        \"dtype\": \"number\",\n        \"std\": 1238.997926701688,\n        \"min\": -200.0,\n        \"max\": 125000.0,\n        \"num_unique_values\": 1140,\n        \"samples\": [\n          822.0,\n          609.0\n        ],\n        \"semantic_type\": \"\",\n        \"description\": \"\"\n      }\n    },\n    {\n      \"column\": \"over_15mins_calls_per_month\",\n      \"properties\": {\n        \"dtype\": \"number\",\n        \"std\": 8.404210262403263,\n        \"min\": 0.0,\n        \"max\": 35.0,\n        \"num_unique_values\": 36,\n        \"samples\": [\n          30.0,\n          22.0\n        ],\n        \"semantic_type\": \"\",\n        \"description\": \"\"\n      }\n    },\n    {\n      \"column\": \"average_call_duration\",\n      \"properties\": {\n        \"dtype\": \"number\",\n        \"std\": 41.18895699052666,\n        \"min\": 1.0,\n        \"max\": 5000.0,\n        \"num_unique_values\": 20,\n        \"samples\": [\n          8.0,\n          3.0\n        ],\n        \"semantic_type\": \"\",\n        \"description\": \"\"\n      }\n    },\n    {\n      \"column\": \"reported_satisfaction\",\n      \"properties\": {\n        \"dtype\": \"category\",\n        \"num_unique_values\": 3,\n        \"samples\": [\n          \"low\",\n          \"high\"\n        ],\n        \"semantic_type\": \"\",\n        \"description\": \"\"\n      }\n    },\n    {\n      \"column\": \"reported_usage_level\",\n      \"properties\": {\n        \"dtype\": \"category\",\n        \"num_unique_values\": 3,\n        \"samples\": [\n          \"low\",\n          \"high\"\n        ],\n        \"semantic_type\": \"\",\n        \"description\": \"\"\n      }\n    },\n    {\n      \"column\": \"considering_change_of_plan\",\n      \"properties\": {\n        \"dtype\": \"category\",\n        \"num_unique_values\": 2,\n        \"samples\": [\n          \"no\",\n          \"yes\"\n        ],\n        \"semantic_type\": \"\",\n        \"description\": \"\"\n      }\n    },\n    {\n      \"column\": \"leave\",\n      \"properties\": {\n        \"dtype\": \"category\",\n        \"num_unique_values\": 2,\n        \"samples\": [\n          \"STAY\",\n          \"LEAVE\"\n        ],\n        \"semantic_type\": \"\",\n        \"description\": \"\"\n      }\n    },\n    {\n      \"column\": \"id\",\n      \"properties\": {\n        \"dtype\": \"number\",\n        \"std\": 6812,\n        \"min\": 2,\n        \"max\": 25354,\n        \"num_unique_values\": 11560,\n        \"samples\": [\n          18399,\n          10017\n        ],\n        \"semantic_type\": \"\",\n        \"description\": \"\"\n      }\n    },\n    {\n      \"column\": \"operating_system\",\n      \"properties\": {\n        \"dtype\": \"category\",\n        \"num_unique_values\": 2,\n        \"samples\": [\n          \"IOS\",\n          \"Android\"\n        ],\n        \"semantic_type\": \"\",\n        \"description\": \"\"\n      }\n    }\n  ]\n}"
            }
          },
          "metadata": {},
          "execution_count": 1
        }
      ],
      "source": [
        "import pandas as pd\n",
        "\n",
        "url = \"https://raw.githubusercontent.com/Stan-Pugsley/is_4487_base/812e9f15c357a5657a2795631fcaa9d9363cb417/DataSets/megatelco_leave_survey_data_cleaning_v2.csv\"\n",
        "df = pd.read_csv(url)\n",
        "\n",
        "df.head()"
      ]
    },
    {
      "cell_type": "code",
      "execution_count": 2,
      "metadata": {
        "id": "2Nvqw5ceD5Pg"
      },
      "outputs": [],
      "source": [
        "# create a copy of your dataset for use in part 4\n",
        "copied_df = df.copy(deep=True)"
      ]
    },
    {
      "cell_type": "markdown",
      "metadata": {
        "id": "x5EdJF_oiJDb"
      },
      "source": [
        "## Part 1: Review Column Names and Structure\n",
        "\n",
        "Before cleaning, check the structure of the dataset:\n",
        "\n",
        "- Are column names consistent (lowercase, no spaces)?\n",
        "- Are there any typos or redundant labels?\n",
        "- Do the rows and columns appear aligned?\n",
        "\n",
        "Why this matters:\n",
        "Inconsistent or messy column names can break code and make analysis harder to follow.\n",
        "\n",
        "\n"
      ]
    },
    {
      "cell_type": "code",
      "execution_count": 3,
      "metadata": {
        "id": "nm4Pnq-ViH38",
        "colab": {
          "base_uri": "https://localhost:8080/"
        },
        "outputId": "50aa11d2-8756-4eca-b509-c532cc2b732b"
      },
      "outputs": [
        {
          "output_type": "stream",
          "name": "stdout",
          "text": [
            "<class 'pandas.core.frame.DataFrame'>\n",
            "RangeIndex: 15016 entries, 0 to 15015\n",
            "Data columns (total 16 columns):\n",
            " #   Column                       Non-Null Count  Dtype  \n",
            "---  ------                       --------------  -----  \n",
            " 0   college                      15016 non-null  object \n",
            " 1   income                       15006 non-null  float64\n",
            " 2   data_overage_mb              15016 non-null  int64  \n",
            " 3   data_leftover_mb             14916 non-null  float64\n",
            " 4   data_mb_used                 14916 non-null  float64\n",
            " 5   text_message_count           15016 non-null  int64  \n",
            " 6   house                        15016 non-null  int64  \n",
            " 7   handset_price                14916 non-null  float64\n",
            " 8   over_15mins_calls_per_month  15013 non-null  float64\n",
            " 9   average_call_duration        14916 non-null  float64\n",
            " 10  reported_satisfaction        15016 non-null  object \n",
            " 11  reported_usage_level         15016 non-null  object \n",
            " 12  considering_change_of_plan   14201 non-null  object \n",
            " 13  leave                        15016 non-null  object \n",
            " 14  id                           15016 non-null  int64  \n",
            " 15  operating_system             15016 non-null  object \n",
            "dtypes: float64(6), int64(4), object(6)\n",
            "memory usage: 1.8+ MB\n"
          ]
        }
      ],
      "source": [
        "# Standardize column names: lowercase, no spaces\n",
        "df.columns = df.columns.str.strip().str.lower().str.replace(\" \", \"_\")\n",
        "\n",
        "# Get column info and data types\n",
        "df.info()"
      ]
    },
    {
      "cell_type": "markdown",
      "metadata": {
        "id": "rRc0L4FGiYOz"
      },
      "source": [
        "## Part 2: Convert Data Types\n",
        "\n",
        "Before analysis, make sure each column is stored in the correct format. This helps avoid calculation errors, makes plotting smoother, and ensures models interpret the data correctly.\n",
        "\n",
        "Think about:\n",
        "- Are numbers accidentally stored as strings?\n",
        "- Should repeated text values be converted to categories?\n",
        "- Are \"yes\"/\"no\" columns better represented as binary (0/1) or categorical types?\n",
        "\n",
        "Fixing data types now saves time and avoids issues later in your workflow.\n",
        "\n",
        "\n"
      ]
    },
    {
      "cell_type": "code",
      "execution_count": 4,
      "metadata": {
        "id": "9R4guI7lfgGi",
        "colab": {
          "base_uri": "https://localhost:8080/"
        },
        "outputId": "0359d29e-fd8d-4b23-9bf9-e40d88149031"
      },
      "outputs": [
        {
          "output_type": "stream",
          "name": "stdout",
          "text": [
            "Original dtypes:\n",
            " college                         object\n",
            "income                         float64\n",
            "data_overage_mb                  int64\n",
            "data_leftover_mb               float64\n",
            "data_mb_used                   float64\n",
            "text_message_count               int64\n",
            "house                            int64\n",
            "handset_price                  float64\n",
            "over_15mins_calls_per_month    float64\n",
            "average_call_duration          float64\n",
            "reported_satisfaction           object\n",
            "reported_usage_level            object\n",
            "considering_change_of_plan      object\n",
            "leave                           object\n",
            "id                               int64\n",
            "operating_system                object\n",
            "dtype: object\n",
            "\n",
            "Updated dtypes:\n",
            " college                        category\n",
            "income                          float64\n",
            "data_overage_mb                   int64\n",
            "data_leftover_mb                float64\n",
            "data_mb_used                    float64\n",
            "text_message_count                int64\n",
            "house                          category\n",
            "handset_price                   float64\n",
            "over_15mins_calls_per_month     float64\n",
            "average_call_duration           float64\n",
            "reported_satisfaction          category\n",
            "reported_usage_level             object\n",
            "considering_change_of_plan     category\n",
            "leave                            object\n",
            "id                                int64\n",
            "operating_system               category\n",
            "dtype: object\n"
          ]
        }
      ],
      "source": [
        "# Check original data types\n",
        "print(\"Original dtypes:\\n\", df.dtypes)\n",
        "\n",
        "# Convert yes/no to binary categories\n",
        "df['considering_change_of_plan'] = df['considering_change_of_plan'].map({'yes': 1, 'no': 0}).astype('category')\n",
        "\n",
        "# Convert categorical text columns\n",
        "df['college'] = df['college'].astype('category')\n",
        "df['house'] = df['house'].astype('category')\n",
        "df['reported_satisfaction'] = df['reported_satisfaction'].astype('category')\n",
        "df['operating_system'] = df['operating_system'].astype('category')\n",
        "\n",
        "# Convert numeric-looking columns from object to float\n",
        "df['income'] = pd.to_numeric(df['income'], errors='coerce')\n",
        "df['data_overage_mb'] = pd.to_numeric(df['data_overage_mb'], errors='coerce')\n",
        "df['data_leftover_mb'] = pd.to_numeric(df['data_leftover_mb'], errors='coerce')\n",
        "df['data_mb_used'] = pd.to_numeric(df['data_mb_used'], errors='coerce')\n",
        "df['text_message_count'] = pd.to_numeric(df['text_message_count'], errors='coerce')\n",
        "df['over_15mins_calls_per_month'] = pd.to_numeric(df['over_15mins_calls_per_month'], errors='coerce')\n",
        "df['average_call_duration'] = pd.to_numeric(df['average_call_duration'], errors='coerce')\n",
        "\n",
        "# Check updated data types\n",
        "print(\"\\nUpdated dtypes:\\n\", df.dtypes)\n"
      ]
    },
    {
      "cell_type": "markdown",
      "metadata": {
        "id": "C8diAR0Vil7a"
      },
      "source": [
        "### 🔧 Try It Yourself – Part 2\n",
        "\n",
        "1. Convert the `leave` column from \"yes\"/\"no\" to binary (`1`/`0`) and make it a **category**\n",
        "2. Convert `reported_usage_level` to a **categorical** type\n",
        "3. Convert `house` to an **integer** type\n",
        "3. Use `.info()` to confirm the changes\n"
      ]
    },
    {
      "cell_type": "code",
      "execution_count": 8,
      "metadata": {
        "id": "TxDe-Td1ilji",
        "colab": {
          "base_uri": "https://localhost:8080/"
        },
        "outputId": "46a51075-2889-42ab-b3c5-0eb92c01d72b"
      },
      "outputs": [
        {
          "output_type": "stream",
          "name": "stdout",
          "text": [
            "<class 'pandas.core.frame.DataFrame'>\n",
            "RangeIndex: 15016 entries, 0 to 15015\n",
            "Data columns (total 16 columns):\n",
            " #   Column                       Non-Null Count  Dtype   \n",
            "---  ------                       --------------  -----   \n",
            " 0   college                      15016 non-null  category\n",
            " 1   income                       15006 non-null  float64 \n",
            " 2   data_overage_mb              15016 non-null  int64   \n",
            " 3   data_leftover_mb             14916 non-null  float64 \n",
            " 4   data_mb_used                 14916 non-null  float64 \n",
            " 5   text_message_count           15016 non-null  int64   \n",
            " 6   house                        15016 non-null  int64   \n",
            " 7   handset_price                14916 non-null  float64 \n",
            " 8   over_15mins_calls_per_month  15013 non-null  float64 \n",
            " 9   average_call_duration        14916 non-null  float64 \n",
            " 10  reported_satisfaction        15016 non-null  category\n",
            " 11  reported_usage_level         15016 non-null  category\n",
            " 12  considering_change_of_plan   0 non-null      category\n",
            " 13  leave                        0 non-null      category\n",
            " 14  id                           15016 non-null  int64   \n",
            " 15  operating_system             15016 non-null  category\n",
            "dtypes: category(6), float64(6), int64(4)\n",
            "memory usage: 1.2 MB\n"
          ]
        }
      ],
      "source": [
        "# add code here 🔧\n",
        "# Convert 'leave' from 'yes'/'no' to binary 1/0 and make it a category\n",
        "df['leave'] = df['leave'].map({'yes': 1, 'no': 0}).astype('category')\n",
        "\n",
        "# Convert 'reported_usage_level' to categorical\n",
        "df['reported_usage_level'] = df['reported_usage_level'].astype('category')\n",
        "\n",
        "# Convert 'house' to numeric, fill missing with 0, then to integer\n",
        "df['house'] = pd.to_numeric(df['house'], errors='coerce').fillna(0).astype(int)\n",
        "\n",
        "# Confirm changes\n",
        "df.info()\n",
        "\n"
      ]
    },
    {
      "cell_type": "markdown",
      "metadata": {
        "id": "V89jBNxwiqLR"
      },
      "source": [
        "## Part 3: Handle Missing Values\n",
        "\n",
        "Missing data can break charts, skew stats, and disrupt models — so it needs to be handled carefully.\n",
        "\n",
        "### Think about:\n",
        "- Are the missing values random or patterned?\n",
        "- Can we drop rows, or do we need to fill them?\n",
        "- Should we use mean, median, or something else?\n",
        "\n",
        "### Guidelines:\n",
        "- Drop rows only if few are missing and the column is essential.\n",
        "- Use **median** for numeric columns with outliers.\n",
        "- Use **0** if missing logically means \"none\" (e.g., no leftover data).\n",
        "- Use **mode** for categorical values.\n",
        "\n",
        "Cleaning missing values early avoids bigger problems later.\n",
        "\n",
        "-----\n",
        "\n",
        "\n",
        "**Note on `.loc` and Warnings** - When assigning values to a DataFrame, especially after filtering or copying, it's best to use `.loc` to avoid **`SettingWithCopyWarning`**. This ensures that you're updating the original data and not a temporary view of it.\n"
      ]
    },
    {
      "cell_type": "code",
      "execution_count": 9,
      "metadata": {
        "id": "_5CvIibPiwkZ",
        "colab": {
          "base_uri": "https://localhost:8080/"
        },
        "outputId": "9912d4bf-acb8-4461-b402-18d2310a6c7a"
      },
      "outputs": [
        {
          "output_type": "stream",
          "name": "stdout",
          "text": [
            "Missing values per column:\n",
            " college                            0\n",
            "income                            10\n",
            "data_overage_mb                    0\n",
            "data_leftover_mb                 100\n",
            "data_mb_used                     100\n",
            "text_message_count                 0\n",
            "house                              0\n",
            "handset_price                    100\n",
            "over_15mins_calls_per_month        3\n",
            "average_call_duration            100\n",
            "reported_satisfaction              0\n",
            "reported_usage_level               0\n",
            "considering_change_of_plan     15016\n",
            "leave                          15016\n",
            "id                                 0\n",
            "operating_system                   0\n",
            "dtype: int64\n",
            "\n",
            "Missing values after handling:\n",
            " college                            0\n",
            "income                             0\n",
            "data_overage_mb                    0\n",
            "data_leftover_mb                   0\n",
            "data_mb_used                       0\n",
            "text_message_count                 0\n",
            "house                              0\n",
            "handset_price                      0\n",
            "over_15mins_calls_per_month        3\n",
            "average_call_duration              0\n",
            "reported_satisfaction              0\n",
            "reported_usage_level               0\n",
            "considering_change_of_plan     15006\n",
            "leave                          15006\n",
            "id                                 0\n",
            "operating_system                   0\n",
            "dtype: int64\n"
          ]
        }
      ],
      "source": [
        "# View missing value counts\n",
        "print(\"Missing values per column:\\n\", df.isnull().sum())\n",
        "\n",
        "# Fill 'handset_price' with median\n",
        "df['handset_price'] = df['handset_price'].fillna(df['handset_price'].median())\n",
        "\n",
        "# Drop rows with missing 'income' (if very few)\n",
        "df = df.dropna(subset=['income']).copy()\n",
        "\n",
        "# Fill missing 'data_leftover_mb' with 0 if it logically means no leftover data\n",
        "df.loc[:, 'data_leftover_mb'] = df['data_leftover_mb'].fillna(0)\n",
        "\n",
        "# Fill 'average_call_duration' with median if necessary\n",
        "df.loc[:, 'average_call_duration'] = df['average_call_duration'].fillna(df['average_call_duration'].median())\n",
        "\n",
        "# Fill 'data_mb_used' with median\n",
        "df.loc[:, 'data_mb_used'] = df['data_mb_used'].fillna(df['data_mb_used'].median())\n",
        "\n",
        "# Confirm updated missing values\n",
        "print(\"\\nMissing values after handling:\\n\", df.isnull().sum())\n"
      ]
    },
    {
      "cell_type": "markdown",
      "metadata": {
        "id": "uYVOlmerk5_2"
      },
      "source": [
        "### 🔧 Try It Yourself – Part 3\n",
        "\n",
        "\n",
        "There are still some missing values in:\n",
        "\n",
        "- `over_15mins_calls_per_month`\n",
        "- `considering_change_of_plan`\n",
        "\n",
        "Decide how to handle them based on what makes the most sense:\n",
        "\n",
        "- Should you fill them with 0, the median, or something else?\n",
        "- For categories, would a placeholder like \"unknown\" or the most common value work?\n",
        "- Or is it better to drop those rows?\n",
        "\n",
        "1. Write and execute code to handle the missing values in the remaining two columns.\n",
        "2. Use `df.isnull().sum()` to confirm all missing values are handled.\n",
        "\n"
      ]
    },
    {
      "cell_type": "code",
      "execution_count": 12,
      "metadata": {
        "id": "yTFPZdink5Ua",
        "colab": {
          "base_uri": "https://localhost:8080/"
        },
        "outputId": "65d4d8da-45b4-4834-9503-4224797a7d95"
      },
      "outputs": [
        {
          "output_type": "stream",
          "name": "stdout",
          "text": [
            "college                            0\n",
            "income                             0\n",
            "data_overage_mb                    0\n",
            "data_leftover_mb                   0\n",
            "data_mb_used                       0\n",
            "text_message_count                 0\n",
            "house                              0\n",
            "handset_price                      0\n",
            "over_15mins_calls_per_month        0\n",
            "average_call_duration              0\n",
            "reported_satisfaction              0\n",
            "reported_usage_level               0\n",
            "considering_change_of_plan         0\n",
            "leave                          15006\n",
            "id                                 0\n",
            "operating_system                   0\n",
            "dtype: int64\n"
          ]
        }
      ],
      "source": [
        "# Add code here 🔧\n",
        "# Handle missing values in 'over_15mins_calls_per_month' using median\n",
        "median_calls = df['over_15mins_calls_per_month'].median()\n",
        "df['over_15mins_calls_per_month'] = df['over_15mins_calls_per_month'].fillna(median_calls)\n",
        "\n",
        "# Handle missing values in 'considering_change_of_plan'\n",
        "# Get the mode, fallback to 'unknown'\n",
        "if not df['considering_change_of_plan'].mode().empty:\n",
        "    mode_considering = df['considering_change_of_plan'].mode()[0]\n",
        "else:\n",
        "    mode_considering = 'unknown'\n",
        "\n",
        "# Ensure mode_considering is in the category list before filling\n",
        "if mode_considering not in df['considering_change_of_plan'].cat.categories:\n",
        "    df['considering_change_of_plan'] = df['considering_change_of_plan'].cat.add_categories([mode_considering])\n",
        "\n",
        "# Fill missing values with mode\n",
        "df['considering_change_of_plan'] = df['considering_change_of_plan'].fillna(mode_considering)\n",
        "\n",
        "# Confirm all missing values handled\n",
        "print(df.isnull().sum())\n",
        "\n",
        "\n"
      ]
    },
    {
      "cell_type": "markdown",
      "metadata": {
        "id": "wGSRC2UsTipt"
      },
      "source": [
        "## Part 4: Remove Duplicate Rows\n",
        "\n",
        "Sometimes the same row appears more than once due to data entry or processing mistakes. It's important to check for and remove these duplicates.\n",
        "\n",
        "Think about:\n",
        "- Are there rows that are exactly the same?\n",
        "- If duplicates exist, should you keep the first one, the last one, or none?\n",
        "\n",
        "Why this matters:\n",
        "Duplicate rows can inflate totals, distort statistics, and lead to inaccurate conclusions.\n"
      ]
    },
    {
      "cell_type": "code",
      "execution_count": 13,
      "metadata": {
        "id": "1TOElN0LTmZD",
        "colab": {
          "base_uri": "https://localhost:8080/"
        },
        "outputId": "4d2b7fd2-65a1-4472-b50a-eea2f38bb6f9"
      },
      "outputs": [
        {
          "output_type": "stream",
          "name": "stdout",
          "text": [
            "Number of duplicate rows: 17\n",
            "Remaining rows after removing duplicates: 14989\n"
          ]
        }
      ],
      "source": [
        "# Check for exact duplicates\n",
        "print(f\"Number of duplicate rows: {df.duplicated().sum()}\")\n",
        "\n",
        "# Remove them, keeping the first occurrence\n",
        "df = df.drop_duplicates()\n",
        "\n",
        "# Confirm result\n",
        "print(f\"Remaining rows after removing duplicates: {len(df)}\")"
      ]
    },
    {
      "cell_type": "markdown",
      "metadata": {
        "id": "iL3PCXy2Tl4z"
      },
      "source": [
        "### 🔧 Try It Yourself – Part 4\n",
        "\n",
        "1. Use `copied_df.duplicated().sum()` to count how many duplicates are in your dataset.\n",
        "2. Try using `copied_df.drop_duplicates(keep='last')` instead — what changes?\n",
        "3. Explore whether duplicate rows share the same ID or just values across all columns and comment on your observation.\n"
      ]
    },
    {
      "cell_type": "code",
      "execution_count": 14,
      "metadata": {
        "id": "UyFVNN7fTtWq",
        "colab": {
          "base_uri": "https://localhost:8080/"
        },
        "outputId": "c17321b9-f2ea-4764-880b-eacd2137a8db"
      },
      "outputs": [
        {
          "output_type": "stream",
          "name": "stdout",
          "text": [
            "Number of duplicate rows: 0\n",
            "Shape after dropping duplicates (keep last): (14989, 16)\n",
            "Original shape: (14989, 16)\n",
            "Rows removed: 0\n",
            "Number of duplicate rows (total): 0\n",
            "Unique IDs in duplicate rows: 0\n"
          ]
        }
      ],
      "source": [
        "# 🔧 Add code here:\n",
        "# Step 1: Make a copy to preserve original\n",
        "copied_df = df.copy()\n",
        "\n",
        "# Step 2: Count number of full row duplicates\n",
        "duplicate_count = copied_df.duplicated().sum()\n",
        "print(\"Number of duplicate rows:\", duplicate_count)\n",
        "\n",
        "# Step 3: Drop duplicates using 'keep=last' and check resulting shape\n",
        "deduped_df = copied_df.drop_duplicates(keep='last')\n",
        "print(\"Shape after dropping duplicates (keep last):\", deduped_df.shape)\n",
        "\n",
        "# Step 4: Compare row count before and after\n",
        "print(\"Original shape:\", copied_df.shape)\n",
        "print(\"Rows removed:\", copied_df.shape[0] - deduped_df.shape[0])\n",
        "\n",
        "# Step 5: Explore if duplicate rows share same ID\n",
        "# Find actual duplicate rows\n",
        "duplicate_rows = copied_df[copied_df.duplicated(keep=False)]\n",
        "\n",
        "# Check if their IDs are the same\n",
        "id_unique_in_dupes = duplicate_rows['id'].nunique()\n",
        "total_dupe_rows = duplicate_rows.shape[0]\n",
        "\n",
        "print(\"Number of duplicate rows (total):\", total_dupe_rows)\n",
        "print(\"Unique IDs in duplicate rows:\", id_unique_in_dupes)\n"
      ]
    },
    {
      "cell_type": "markdown",
      "metadata": {
        "id": "-CJNfob8qeGi"
      },
      "source": [
        "🔧 Add comment here: There are no duplicate rows in the dataset. This indicates that each customer record is distinct, including all of the associated variables."
      ]
    },
    {
      "cell_type": "markdown",
      "metadata": {
        "id": "IrGThmZxTsdG"
      },
      "source": [
        "## Part 5: Identify and Remove Obvious Outliers\n",
        "\n",
        "Outliers are values that fall far outside the normal range. They can come from data entry mistakes or rare cases.\n",
        "\n",
        "- Use summary statistics or visual tools (like boxplots) to find them.\n",
        "- Look for clearly unrealistic values — e.g., negative prices or extremely high data usage.\n",
        "- Decide how to handle them:\n",
        "  - Remove if they’re errors.\n",
        "  - Keep if they’re valid but rare — or cap them if needed.\n",
        "\n",
        "Outliers can distort averages, stretch visualizations, and mislead models, so it’s important to address them carefully.\n",
        "\n"
      ]
    },
    {
      "cell_type": "code",
      "execution_count": 15,
      "metadata": {
        "id": "yQkgPvH-TyV-",
        "colab": {
          "base_uri": "https://localhost:8080/"
        },
        "outputId": "11ba20a3-de3c-41fc-91b5-333efe4460a0"
      },
      "outputs": [
        {
          "output_type": "stream",
          "name": "stdout",
          "text": [
            "Shape after removing obvious outliers: (14986, 16)\n"
          ]
        }
      ],
      "source": [
        "# Remove negative or nonsensical values using business rules\n",
        "\n",
        "# Example: remove rows where 'handset_price' is negative\n",
        "df = df[df['handset_price'] >= 0]\n",
        "\n",
        "# Example: remove rows with unusually long call durations\n",
        "df = df[df['average_call_duration'] < 1000]\n",
        "\n",
        "# Example: remove rows with extremely high text message counts\n",
        "df = df[df['text_message_count'] < 1000]\n",
        "\n",
        "# View shape after outlier filtering\n",
        "print(\"Shape after removing obvious outliers:\", df.shape)\n"
      ]
    },
    {
      "cell_type": "markdown",
      "metadata": {
        "id": "hs44Te_xT1x0"
      },
      "source": [
        "### 🔧 Try It Yourself – Part 5\n",
        "\n",
        "1. Use `df.describe()` to look for columns with extreme minimum or maximum values.\n",
        "2. Set a threshold for what you think is \"too high\" or \"too low\" for:\n",
        "  - `data_mb_used`\n",
        "  - `over_15mins_calls_per_month`\n",
        "  - `income`\n",
        "3. Remove those outliers using boolean filtering like `df = df[df['column'] < threshold]`"
      ]
    },
    {
      "cell_type": "code",
      "execution_count": 17,
      "metadata": {
        "id": "GZht29q2U_qz",
        "colab": {
          "base_uri": "https://localhost:8080/"
        },
        "outputId": "2f306655-20ef-41f6-9c03-010717cc4730"
      },
      "outputs": [
        {
          "output_type": "stream",
          "name": "stdout",
          "text": [
            "       data_mb_used  over_15mins_calls_per_month         income\n",
            "count  14986.000000                 14986.000000   14986.000000\n",
            "mean    4201.313760                    10.569331  241977.965768\n",
            "std     2196.751708                     8.401171  109612.549926\n",
            "min      400.000000                     0.000000  -65000.000000\n",
            "25%     2304.000000                     3.000000  147808.250000\n",
            "50%     4221.000000                     9.000000  241653.000000\n",
            "75%     6063.000000                    17.000000  336442.000000\n",
            "max     8000.000000                    35.000000  432000.000000\n",
            "\n",
            "After outlier removal:\n",
            "       data_mb_used  over_15mins_calls_per_month        income\n",
            "count  14984.000000                 14984.000000   14984.00000\n",
            "mean    4201.413374                    10.570675  242016.73752\n",
            "std     2196.609956                     8.400924  109568.30733\n",
            "min      400.000000                     0.000000   52491.00000\n",
            "25%     2304.000000                     3.000000  147825.50000\n",
            "50%     4221.000000                     9.000000  241656.00000\n",
            "75%     6063.000000                    17.000000  336449.75000\n",
            "max     8000.000000                    35.000000  432000.00000\n",
            "New shape: (14984, 16)\n"
          ]
        }
      ],
      "source": [
        "# 🔧 add code here:\n",
        "# Step 1: Summary statistics to inspect potential outliers\n",
        "print(df[['data_mb_used', 'over_15mins_calls_per_month', 'income']].describe())\n",
        "\n",
        "# Step 2: Set thresholds for unrealistic high values\n",
        "data_mb_threshold = 50000         # More than 50 GB/month seems unrealistic\n",
        "calls_threshold = 100             # Over 100 long calls/month is excessive\n",
        "income_threshold = 1_000_000      # Over $1M likely a data entry issue\n",
        "\n",
        "# Step 3: Remove high-end outliers\n",
        "df = df[df['data_mb_used'] < data_mb_threshold]\n",
        "df = df[df['over_15mins_calls_per_month'] < calls_threshold]\n",
        "df = df[df['income'] < income_threshold]\n",
        "\n",
        "# Step 4: Remove clearly invalid negative income values\n",
        "df = df[df['income'] >= 0]\n",
        "\n",
        "# Step 5: Confirm that outliers are removed\n",
        "print(\"\\nAfter outlier removal:\")\n",
        "print(df[['data_mb_used', 'over_15mins_calls_per_month', 'income']].describe())\n",
        "print(\"New shape:\", df.shape)\n",
        "\n"
      ]
    },
    {
      "cell_type": "markdown",
      "metadata": {
        "id": "SDo8Cbb5T5ve"
      },
      "source": [
        "## Part 6: Handle Outliers Using Quantiles\n",
        "\n",
        "Instead of removing outliers, we can limit their impact by capping extreme values — a method known as **Winsorizing**.\n",
        "\n",
        "### How to Do It:\n",
        "- Use `.quantile()` to identify the 1st and 99th percentiles (or other thresholds).\n",
        "- Use `.clip()` to cap values within that range.\n",
        "\n",
        "This keeps your dataset intact while reducing the influence of extreme values on your analysis or model.\n",
        "\n"
      ]
    },
    {
      "cell_type": "code",
      "execution_count": 18,
      "metadata": {
        "id": "5MsTpfh1T-MA"
      },
      "outputs": [],
      "source": [
        "# Calculate 1st and 99th percentiles for income\n",
        "income_min, income_max = df['income'].quantile([0.01, 0.99])\n",
        "\n",
        "# Use .loc to avoid SettingWithCopyWarning and ensure assignment modifies the original DataFrame\n",
        "df.loc[:, 'income'] = df['income'].clip(lower=income_min, upper=income_max)\n",
        "\n",
        "# Clip 'data_mb_used' to within 1st and 99th percentiles\n",
        "usage_min, usage_max = df['data_mb_used'].quantile([0.01, 0.99])\n",
        "df.loc[:, 'data_mb_used'] = df['data_mb_used'].clip(lower=usage_min, upper=usage_max)\n",
        "\n",
        "# Clip 'average_call_duration' to reduce the effect of extreme outliers\n",
        "call_min, call_max = df['average_call_duration'].quantile([0.01, 0.99])\n",
        "df.loc[:, 'average_call_duration'] = df['average_call_duration'].clip(lower=call_min, upper=call_max)\n",
        "\n"
      ]
    },
    {
      "cell_type": "markdown",
      "metadata": {
        "id": "Kl2KH2laUPhJ"
      },
      "source": [
        "### 🔧 Try It Yourself – Part 6\n",
        "\n",
        "1. Use `.quantile([0.01, 0.99])` to find the range for:\n",
        "  - `text_message_count`\n",
        "  - `over_15mins_calls_per_month`\n",
        "2. Apply `.clip(lower=..., upper=...)` to reduce the impact of those outliers\n",
        "3. Compare the `.describe()` output before and after clipping and comment on what you observe\n"
      ]
    },
    {
      "cell_type": "code",
      "execution_count": 19,
      "metadata": {
        "id": "zddKz_siUTXm",
        "colab": {
          "base_uri": "https://localhost:8080/"
        },
        "outputId": "c9f1eb2c-92f1-4e51-f9e4-93508a8d66c4"
      },
      "outputs": [
        {
          "output_type": "stream",
          "name": "stdout",
          "text": [
            "Before Clipping:\n",
            "        text_message_count  over_15mins_calls_per_month\n",
            "count        14984.000000                 14984.000000\n",
            "mean           135.624132                    10.570675\n",
            "std             48.837639                     8.400924\n",
            "min             52.000000                     0.000000\n",
            "25%             93.000000                     3.000000\n",
            "50%            135.000000                     9.000000\n",
            "75%            178.000000                    17.000000\n",
            "max            220.000000                    35.000000\n",
            "\n",
            "After Clipping:\n",
            "        text_message_count  over_15mins_calls_per_month\n",
            "count        14984.000000                 14984.000000\n",
            "mean           135.623465                    10.559597\n",
            "std             48.814121                     8.370176\n",
            "min             53.000000                     0.000000\n",
            "25%             93.000000                     3.000000\n",
            "50%            135.000000                     9.000000\n",
            "75%            178.000000                    17.000000\n",
            "max            219.000000                    33.000000\n"
          ]
        }
      ],
      "source": [
        "# 🔧 Add code here\n",
        "# Step 1: Store original describe stats for comparison\n",
        "before_clip = df[['text_message_count', 'over_15mins_calls_per_month']].describe()\n",
        "\n",
        "# Step 2: Calculate 1st and 99th percentiles for each column\n",
        "text_msg_bounds = df['text_message_count'].quantile([0.01, 0.99])\n",
        "calls_bounds = df['over_15mins_calls_per_month'].quantile([0.01, 0.99])\n",
        "\n",
        "# Step 3: Apply clipping (Winsorization)\n",
        "df['text_message_count'] = df['text_message_count'].clip(lower=text_msg_bounds[0.01], upper=text_msg_bounds[0.99])\n",
        "df['over_15mins_calls_per_month'] = df['over_15mins_calls_per_month'].clip(lower=calls_bounds[0.01], upper=calls_bounds[0.99])\n",
        "\n",
        "# Step 4: Store describe stats after clipping\n",
        "after_clip = df[['text_message_count', 'over_15mins_calls_per_month']].describe()\n",
        "\n",
        "# Step 5: Display both for comparison\n",
        "print(\"Before Clipping:\\n\", before_clip)\n",
        "print(\"\\nAfter Clipping:\\n\", after_clip)\n"
      ]
    },
    {
      "cell_type": "markdown",
      "metadata": {
        "id": "rwiYJnFnrNLq"
      },
      "source": [
        "🔧 Add comment here: After clipping, the maximum values for both textmessagecount and over15minscallspermonth were reduced slightly. This brought them in line with the 99th percentile and lowered the influence of extreme outliers. This adjustment had minimal impact on the mean and the stdev, helping to preserve the overall distribution while reducing potential skew from rare high values."
      ]
    },
    {
      "cell_type": "markdown",
      "metadata": {
        "id": "FpSGvaBmT_9Y"
      },
      "source": [
        "## 🔧 Part 7: Reflection (100 words or less per question)\n",
        "\n",
        "1. Which step fixed the most issues in the dataset?\n",
        "2. What surprised you about the structure or values?\n",
        "3. Do you feel this data is now ready for transformation in Lab 7?\n"
      ]
    },
    {
      "cell_type": "markdown",
      "metadata": {
        "id": "srnE_g7zULEm"
      },
      "source": [
        "🔧 **Add comment here:**\n",
        "\n",
        "1. Handling missing values and correcting missing data types was a great way to resolve a lot of issues. Several solumns had nulls or incorrect formats, this like categorical data stored as strings or numerics stored with invalid values, which could have broken later analysis. Fillin gmissing values with the medians, modes, or realistic defaults made the data much more complete and much more reliable.\n",
        "\n",
        "2. It was surprising to see a negative income value and how few duplicate rows existed despite the dataset's size. Also, some values like very high mobile data usage or long call counts seemed innacurate and not realistic. This highlights how outliers can distort summary statistics without being obvious at first glance.\n",
        "\n",
        "3. Yes, the dataset is now clean, consistent, and free of missing or extreme outlier issues. WIth validated datatypes, fixed formating, and capped extreme values, its well prepared for anyone who wants to look at it and it is ready to be interpreted.\n",
        "---\n",
        "\n",
        "\n"
      ]
    },
    {
      "cell_type": "markdown",
      "metadata": {
        "id": "ivAmH4C1D5Pk"
      },
      "source": [
        "## Export Your Notebook to Submit in Canvas\n",
        "- Use the instructions from Lab 1"
      ]
    },
    {
      "cell_type": "code",
      "execution_count": 20,
      "metadata": {
        "colab": {
          "base_uri": "https://localhost:8080/"
        },
        "id": "jQOqaZ0SD5Pk",
        "outputId": "14b0a0fd-4f6d-4bb5-99a3-c5293fcc4177"
      },
      "outputs": [
        {
          "output_type": "stream",
          "name": "stdout",
          "text": [
            "[NbConvertApp] Converting notebook lab_06_WoodMason.ipynb to html\n",
            "[NbConvertApp] Writing 352041 bytes to lab_06_WoodMason.html\n"
          ]
        }
      ],
      "source": [
        "!jupyter nbconvert --to html \"lab_06_WoodMason.ipynb\""
      ]
    }
  ],
  "metadata": {
    "colab": {
      "provenance": []
    },
    "kernelspec": {
      "display_name": "Python 3",
      "name": "python3"
    },
    "language_info": {
      "name": "python"
    }
  },
  "nbformat": 4,
  "nbformat_minor": 0
}